{
 "cells": [
  {
   "cell_type": "code",
   "execution_count": 72,
   "id": "8c48c48d",
   "metadata": {},
   "outputs": [
    {
     "name": "stdout",
     "output_type": "stream",
     "text": [
      "547\n"
     ]
    },
    {
     "data": {
      "text/html": [
       "<div>\n",
       "<style scoped>\n",
       "    .dataframe tbody tr th:only-of-type {\n",
       "        vertical-align: middle;\n",
       "    }\n",
       "\n",
       "    .dataframe tbody tr th {\n",
       "        vertical-align: top;\n",
       "    }\n",
       "\n",
       "    .dataframe thead th {\n",
       "        text-align: right;\n",
       "    }\n",
       "</style>\n",
       "<table border=\"1\" class=\"dataframe\">\n",
       "  <thead>\n",
       "    <tr style=\"text-align: right;\">\n",
       "      <th></th>\n",
       "      <th>Name</th>\n",
       "      <th>Party</th>\n",
       "    </tr>\n",
       "  </thead>\n",
       "  <tbody>\n",
       "    <tr>\n",
       "      <th>0</th>\n",
       "      <td>Ralph Abraham</td>\n",
       "      <td>R</td>\n",
       "    </tr>\n",
       "    <tr>\n",
       "      <th>1</th>\n",
       "      <td>Alma Adams</td>\n",
       "      <td>D</td>\n",
       "    </tr>\n",
       "    <tr>\n",
       "      <th>2</th>\n",
       "      <td>Robert T. Aderholt</td>\n",
       "      <td>R</td>\n",
       "    </tr>\n",
       "    <tr>\n",
       "      <th>3</th>\n",
       "      <td>Pete Aguilar</td>\n",
       "      <td>D</td>\n",
       "    </tr>\n",
       "    <tr>\n",
       "      <th>4</th>\n",
       "      <td>Rick Allen</td>\n",
       "      <td>R</td>\n",
       "    </tr>\n",
       "    <tr>\n",
       "      <th>5</th>\n",
       "      <td>Justin Amash</td>\n",
       "      <td>R</td>\n",
       "    </tr>\n",
       "    <tr>\n",
       "      <th>6</th>\n",
       "      <td>Mark Amodei</td>\n",
       "      <td>R</td>\n",
       "    </tr>\n",
       "    <tr>\n",
       "      <th>7</th>\n",
       "      <td>Brad Ashford</td>\n",
       "      <td>D</td>\n",
       "    </tr>\n",
       "    <tr>\n",
       "      <th>8</th>\n",
       "      <td>Brian Babin</td>\n",
       "      <td>R</td>\n",
       "    </tr>\n",
       "    <tr>\n",
       "      <th>9</th>\n",
       "      <td>Lou Barletta</td>\n",
       "      <td>R</td>\n",
       "    </tr>\n",
       "    <tr>\n",
       "      <th>10</th>\n",
       "      <td>Andy Barr</td>\n",
       "      <td>R</td>\n",
       "    </tr>\n",
       "    <tr>\n",
       "      <th>11</th>\n",
       "      <td>Joe Barton</td>\n",
       "      <td>R</td>\n",
       "    </tr>\n",
       "    <tr>\n",
       "      <th>12</th>\n",
       "      <td>Karen Bass</td>\n",
       "      <td>D</td>\n",
       "    </tr>\n",
       "    <tr>\n",
       "      <th>13</th>\n",
       "      <td>Joyce Beatty</td>\n",
       "      <td>D</td>\n",
       "    </tr>\n",
       "    <tr>\n",
       "      <th>14</th>\n",
       "      <td>Xavier Becerra</td>\n",
       "      <td>D</td>\n",
       "    </tr>\n",
       "    <tr>\n",
       "      <th>15</th>\n",
       "      <td>Dan Benishek M.D.</td>\n",
       "      <td>R</td>\n",
       "    </tr>\n",
       "    <tr>\n",
       "      <th>16</th>\n",
       "      <td>Ami Bera M.D.</td>\n",
       "      <td>D</td>\n",
       "    </tr>\n",
       "    <tr>\n",
       "      <th>17</th>\n",
       "      <td>Don Beyer Jr.</td>\n",
       "      <td>D</td>\n",
       "    </tr>\n",
       "    <tr>\n",
       "      <th>18</th>\n",
       "      <td>Gus Bilirakis</td>\n",
       "      <td>R</td>\n",
       "    </tr>\n",
       "    <tr>\n",
       "      <th>19</th>\n",
       "      <td>Sanford Bishop Jr.</td>\n",
       "      <td>D</td>\n",
       "    </tr>\n",
       "  </tbody>\n",
       "</table>\n",
       "</div>"
      ],
      "text/plain": [
       "                  Name Party\n",
       "0        Ralph Abraham     R\n",
       "1           Alma Adams     D\n",
       "2   Robert T. Aderholt     R\n",
       "3         Pete Aguilar     D\n",
       "4           Rick Allen     R\n",
       "5         Justin Amash     R\n",
       "6          Mark Amodei     R\n",
       "7         Brad Ashford     D\n",
       "8          Brian Babin     R\n",
       "9         Lou Barletta     R\n",
       "10           Andy Barr     R\n",
       "11          Joe Barton     R\n",
       "12          Karen Bass     D\n",
       "13        Joyce Beatty     D\n",
       "14      Xavier Becerra     D\n",
       "15   Dan Benishek M.D.     R\n",
       "16       Ami Bera M.D.     D\n",
       "17       Don Beyer Jr.     D\n",
       "18       Gus Bilirakis     R\n",
       "19  Sanford Bishop Jr.     D"
      ]
     },
     "execution_count": 72,
     "metadata": {},
     "output_type": "execute_result"
    }
   ],
   "source": [
    "import re\n",
    "import pandas as pd\n",
    "\n",
    "# Load the text file\n",
    "with open('data/114th congress.txt', 'r', errors='ignore') as file:\n",
    "    content = file.read()\n",
    "\n",
    "# Split the content on \"Picture of\"\n",
    "parts = re.split(r'Picture of ', content)\n",
    "\n",
    "# Initialize an empty list to store the data\n",
    "data = []\n",
    "\n",
    "# Loop over the parts\n",
    "for part in parts:\n",
    "    # Split on newline to separate the name from the title\n",
    "    lines = part.split('\\n')\n",
    "    name = lines[0].strip()\n",
    "    if len(lines) > 2:\n",
    "        title = lines[2].strip()\n",
    "        # The party is the first character after \"U.S. Representative\", \"U.S. Representative (Former)\", \"Congressional Delegate\", or \"U.S. Senator\"\n",
    "        match = re.search(r'(U\\.S\\. Representative|U\\.S\\. Representative \\(Former\\)|Congressional Delegate|U\\.S\\. Senator)\\s*([A-Z])-', title)\n",
    "        if match:\n",
    "            party = match.group(2)\n",
    "            data.append([name, party])\n",
    "\n",
    "# Create a DataFrame\n",
    "congress114 = pd.DataFrame(data, columns=['Name', 'Party'])\n",
    "\n",
    "# Count the number of entries in the DataFrame\n",
    "num_entries = len(congress114)\n",
    "\n",
    "print(num_entries)\n",
    "congress114.head(20)\n"
   ]
  },
  {
   "cell_type": "code",
   "execution_count": 73,
   "id": "107fae4d",
   "metadata": {},
   "outputs": [],
   "source": [
    "congress114.to_csv('114th_Congress.csv')"
   ]
  },
  {
   "cell_type": "code",
   "execution_count": 74,
   "id": "2710d4ac",
   "metadata": {},
   "outputs": [],
   "source": [
    "df = pd.read_csv('data/114th_Congress.csv')"
   ]
  },
  {
   "cell_type": "code",
   "execution_count": 75,
   "id": "c6bbe45a",
   "metadata": {},
   "outputs": [
    {
     "data": {
      "text/html": [
       "<div>\n",
       "<style scoped>\n",
       "    .dataframe tbody tr th:only-of-type {\n",
       "        vertical-align: middle;\n",
       "    }\n",
       "\n",
       "    .dataframe tbody tr th {\n",
       "        vertical-align: top;\n",
       "    }\n",
       "\n",
       "    .dataframe thead th {\n",
       "        text-align: right;\n",
       "    }\n",
       "</style>\n",
       "<table border=\"1\" class=\"dataframe\">\n",
       "  <thead>\n",
       "    <tr style=\"text-align: right;\">\n",
       "      <th></th>\n",
       "      <th>_unit_id</th>\n",
       "      <th>_golden</th>\n",
       "      <th>_unit_state</th>\n",
       "      <th>_trusted_judgments</th>\n",
       "      <th>_last_judgment_at</th>\n",
       "      <th>audience</th>\n",
       "      <th>audience:confidence</th>\n",
       "      <th>bias</th>\n",
       "      <th>bias:confidence</th>\n",
       "      <th>message</th>\n",
       "      <th>...</th>\n",
       "      <th>bioid</th>\n",
       "      <th>embed</th>\n",
       "      <th>id</th>\n",
       "      <th>label</th>\n",
       "      <th>message_gold</th>\n",
       "      <th>source</th>\n",
       "      <th>text</th>\n",
       "      <th>Name</th>\n",
       "      <th>Last Name</th>\n",
       "      <th>Party</th>\n",
       "    </tr>\n",
       "  </thead>\n",
       "  <tbody>\n",
       "    <tr>\n",
       "      <th>1</th>\n",
       "      <td>766192485</td>\n",
       "      <td>False</td>\n",
       "      <td>finalized</td>\n",
       "      <td>1</td>\n",
       "      <td>8/4/15 21:20</td>\n",
       "      <td>national</td>\n",
       "      <td>1.0</td>\n",
       "      <td>partisan</td>\n",
       "      <td>1.0000</td>\n",
       "      <td>attack</td>\n",
       "      <td>...</td>\n",
       "      <td>M000355</td>\n",
       "      <td>&lt;blockquote class=\"twitter-tweet\" width=\"450\"&gt;...</td>\n",
       "      <td>3.11208E+17</td>\n",
       "      <td>From: Mitch McConnell (Senator from Kentucky)</td>\n",
       "      <td>NaN</td>\n",
       "      <td>twitter</td>\n",
       "      <td>VIDEO - #Obamacare:  Full of Higher Costs and ...</td>\n",
       "      <td>Mitch McConnell</td>\n",
       "      <td>McConnell</td>\n",
       "      <td>R</td>\n",
       "    </tr>\n",
       "    <tr>\n",
       "      <th>2</th>\n",
       "      <td>766192486</td>\n",
       "      <td>False</td>\n",
       "      <td>finalized</td>\n",
       "      <td>1</td>\n",
       "      <td>8/4/15 21:14</td>\n",
       "      <td>national</td>\n",
       "      <td>1.0</td>\n",
       "      <td>neutral</td>\n",
       "      <td>1.0000</td>\n",
       "      <td>support</td>\n",
       "      <td>...</td>\n",
       "      <td>S001180</td>\n",
       "      <td>&lt;blockquote class=\"twitter-tweet\" width=\"450\"&gt;...</td>\n",
       "      <td>3.39069E+17</td>\n",
       "      <td>From: Kurt Schrader (Representative from Oregon)</td>\n",
       "      <td>NaN</td>\n",
       "      <td>twitter</td>\n",
       "      <td>Please join me today in remembering our fallen...</td>\n",
       "      <td>Kurt Schrader</td>\n",
       "      <td>Schrader</td>\n",
       "      <td>D</td>\n",
       "    </tr>\n",
       "    <tr>\n",
       "      <th>3</th>\n",
       "      <td>766192487</td>\n",
       "      <td>False</td>\n",
       "      <td>finalized</td>\n",
       "      <td>1</td>\n",
       "      <td>8/4/15 21:08</td>\n",
       "      <td>national</td>\n",
       "      <td>1.0</td>\n",
       "      <td>neutral</td>\n",
       "      <td>1.0000</td>\n",
       "      <td>policy</td>\n",
       "      <td>...</td>\n",
       "      <td>C000880</td>\n",
       "      <td>&lt;blockquote class=\"twitter-tweet\" width=\"450\"&gt;...</td>\n",
       "      <td>2.98528E+17</td>\n",
       "      <td>From: Michael Crapo (Senator from Idaho)</td>\n",
       "      <td>NaN</td>\n",
       "      <td>twitter</td>\n",
       "      <td>RT @SenatorLeahy: 1st step toward Senate debat...</td>\n",
       "      <td>Michael Crapo</td>\n",
       "      <td>Crapo</td>\n",
       "      <td>R</td>\n",
       "    </tr>\n",
       "    <tr>\n",
       "      <th>4</th>\n",
       "      <td>766192488</td>\n",
       "      <td>False</td>\n",
       "      <td>finalized</td>\n",
       "      <td>1</td>\n",
       "      <td>8/4/15 21:26</td>\n",
       "      <td>national</td>\n",
       "      <td>1.0</td>\n",
       "      <td>partisan</td>\n",
       "      <td>1.0000</td>\n",
       "      <td>policy</td>\n",
       "      <td>...</td>\n",
       "      <td>U000038</td>\n",
       "      <td>&lt;blockquote class=\"twitter-tweet\" width=\"450\"&gt;...</td>\n",
       "      <td>4.07643E+17</td>\n",
       "      <td>From: Mark Udall (Senator from Colorado)</td>\n",
       "      <td>NaN</td>\n",
       "      <td>twitter</td>\n",
       "      <td>.@amazon delivery #drones show need to update ...</td>\n",
       "      <td>Mark Udall</td>\n",
       "      <td>Udall</td>\n",
       "      <td>D</td>\n",
       "    </tr>\n",
       "    <tr>\n",
       "      <th>5</th>\n",
       "      <td>766192489</td>\n",
       "      <td>False</td>\n",
       "      <td>finalized</td>\n",
       "      <td>2</td>\n",
       "      <td>8/4/15 21:06</td>\n",
       "      <td>national</td>\n",
       "      <td>1.0</td>\n",
       "      <td>partisan</td>\n",
       "      <td>0.5216</td>\n",
       "      <td>information</td>\n",
       "      <td>...</td>\n",
       "      <td>H001069</td>\n",
       "      <td>&lt;blockquote class=\"twitter-tweet\" width=\"450\"&gt;...</td>\n",
       "      <td>4.2103E+17</td>\n",
       "      <td>From: Heidi Heitkamp (Senator from North Dakota)</td>\n",
       "      <td>NaN</td>\n",
       "      <td>twitter</td>\n",
       "      <td>Called on the @USDOTFRA to release info about ...</td>\n",
       "      <td>Heidi Heitkamp</td>\n",
       "      <td>Heitkamp</td>\n",
       "      <td>D</td>\n",
       "    </tr>\n",
       "  </tbody>\n",
       "</table>\n",
       "<p>5 rows × 24 columns</p>\n",
       "</div>"
      ],
      "text/plain": [
       "    _unit_id  _golden _unit_state  _trusted_judgments _last_judgment_at  \\\n",
       "1  766192485    False   finalized                   1      8/4/15 21:20   \n",
       "2  766192486    False   finalized                   1      8/4/15 21:14   \n",
       "3  766192487    False   finalized                   1      8/4/15 21:08   \n",
       "4  766192488    False   finalized                   1      8/4/15 21:26   \n",
       "5  766192489    False   finalized                   2      8/4/15 21:06   \n",
       "\n",
       "   audience  audience:confidence      bias  bias:confidence      message  ...  \\\n",
       "1  national                  1.0  partisan           1.0000       attack  ...   \n",
       "2  national                  1.0   neutral           1.0000      support  ...   \n",
       "3  national                  1.0   neutral           1.0000       policy  ...   \n",
       "4  national                  1.0  partisan           1.0000       policy  ...   \n",
       "5  national                  1.0  partisan           0.5216  information  ...   \n",
       "\n",
       "     bioid                                              embed           id  \\\n",
       "1  M000355  <blockquote class=\"twitter-tweet\" width=\"450\">...  3.11208E+17   \n",
       "2  S001180  <blockquote class=\"twitter-tweet\" width=\"450\">...  3.39069E+17   \n",
       "3  C000880  <blockquote class=\"twitter-tweet\" width=\"450\">...  2.98528E+17   \n",
       "4  U000038  <blockquote class=\"twitter-tweet\" width=\"450\">...  4.07643E+17   \n",
       "5  H001069  <blockquote class=\"twitter-tweet\" width=\"450\">...   4.2103E+17   \n",
       "\n",
       "                                              label message_gold   source  \\\n",
       "1     From: Mitch McConnell (Senator from Kentucky)          NaN  twitter   \n",
       "2  From: Kurt Schrader (Representative from Oregon)          NaN  twitter   \n",
       "3          From: Michael Crapo (Senator from Idaho)          NaN  twitter   \n",
       "4          From: Mark Udall (Senator from Colorado)          NaN  twitter   \n",
       "5  From: Heidi Heitkamp (Senator from North Dakota)          NaN  twitter   \n",
       "\n",
       "                                                text             Name  \\\n",
       "1  VIDEO - #Obamacare:  Full of Higher Costs and ...  Mitch McConnell   \n",
       "2  Please join me today in remembering our fallen...    Kurt Schrader   \n",
       "3  RT @SenatorLeahy: 1st step toward Senate debat...    Michael Crapo   \n",
       "4  .@amazon delivery #drones show need to update ...       Mark Udall   \n",
       "5  Called on the @USDOTFRA to release info about ...   Heidi Heitkamp   \n",
       "\n",
       "   Last Name Party  \n",
       "1  McConnell     R  \n",
       "2   Schrader     D  \n",
       "3      Crapo     R  \n",
       "4      Udall     D  \n",
       "5   Heitkamp     D  \n",
       "\n",
       "[5 rows x 24 columns]"
      ]
     },
     "execution_count": 75,
     "metadata": {},
     "output_type": "execute_result"
    }
   ],
   "source": [
    "df['Last Name'] = df['Name'].str.split().str[-1]\n",
    "df_unique_last_names = df[~df['Last Name'].duplicated(keep=False)]\n",
    "party_mapping_unique = df_unique_last_names.set_index('Last Name')['Party'].to_dict()\n",
    "\n",
    "# Read and process 'political_social_media.csv'\n",
    "social_media_data = pd.read_csv('data/political_social_media.csv', encoding='ISO-8859-1')\n",
    "\n",
    "# Extract the name from the 'label' column in 'political_social_media.csv'\n",
    "social_media_data['Name'] = social_media_data['label'].str.extract(r'From: (.*?) \\(', expand=False)\n",
    "social_media_data['Last Name'] = social_media_data['Name'].str.split().str[-1]\n",
    "\n",
    "# Merge the datasets\n",
    "social_media_data['Party'] = social_media_data['Last Name'].map(party_mapping_unique)\n",
    "\n",
    "# Drop NaNs from 'Party' column\n",
    "social_media_data.dropna(subset=['Party'], inplace=True)\n",
    "\n",
    "# Display the first few rows of the merged DataFrame\n",
    "social_media_data.head()\n",
    "\n"
   ]
  },
  {
   "cell_type": "code",
   "execution_count": 76,
   "id": "d3064cf9",
   "metadata": {},
   "outputs": [
    {
     "data": {
      "text/plain": [
       "(3773, 24)"
      ]
     },
     "execution_count": 76,
     "metadata": {},
     "output_type": "execute_result"
    }
   ],
   "source": [
    "social_media_data.shape"
   ]
  },
  {
   "cell_type": "code",
   "execution_count": 77,
   "id": "c4773c28",
   "metadata": {},
   "outputs": [],
   "source": [
    "social_media_data.to_csv('cleaned_political_social_media.csv')"
   ]
  },
  {
   "cell_type": "markdown",
   "id": "280124e8",
   "metadata": {},
   "source": [
    "# TF-IDF"
   ]
  },
  {
   "cell_type": "code",
   "execution_count": 78,
   "id": "bae772b3",
   "metadata": {},
   "outputs": [
    {
     "name": "stderr",
     "output_type": "stream",
     "text": [
      "[nltk_data] Downloading package stopwords to\n",
      "[nltk_data]     /Users/forrestwilliams/nltk_data...\n",
      "[nltk_data]   Package stopwords is already up-to-date!\n"
     ]
    },
    {
     "name": "stdout",
     "output_type": "stream",
     "text": [
      "   Unnamed: 0   _unit_id  _golden _unit_state  _trusted_judgments  \\\n",
      "0           1  766192485    False   finalized                   1   \n",
      "1           2  766192486    False   finalized                   1   \n",
      "2           3  766192487    False   finalized                   1   \n",
      "3           4  766192488    False   finalized                   1   \n",
      "4           5  766192489    False   finalized                   2   \n",
      "\n",
      "  _last_judgment_at  audience  audience:confidence      bias  bias:confidence  \\\n",
      "0      8/4/15 21:20  national                  1.0  partisan           1.0000   \n",
      "1      8/4/15 21:14  national                  1.0   neutral           1.0000   \n",
      "2      8/4/15 21:08  national                  1.0   neutral           1.0000   \n",
      "3      8/4/15 21:26  national                  1.0  partisan           1.0000   \n",
      "4      8/4/15 21:06  national                  1.0  partisan           0.5216   \n",
      "\n",
      "   ...                                              embed           id  \\\n",
      "0  ...  <blockquote class=\"twitter-tweet\" width=\"450\">...  3.11208E+17   \n",
      "1  ...  <blockquote class=\"twitter-tweet\" width=\"450\">...  3.39069E+17   \n",
      "2  ...  <blockquote class=\"twitter-tweet\" width=\"450\">...  2.98528E+17   \n",
      "3  ...  <blockquote class=\"twitter-tweet\" width=\"450\">...  4.07643E+17   \n",
      "4  ...  <blockquote class=\"twitter-tweet\" width=\"450\">...   4.2103E+17   \n",
      "\n",
      "                                              label  message_gold   source  \\\n",
      "0     From: Mitch McConnell (Senator from Kentucky)           NaN  twitter   \n",
      "1  From: Kurt Schrader (Representative from Oregon)           NaN  twitter   \n",
      "2          From: Michael Crapo (Senator from Idaho)           NaN  twitter   \n",
      "3          From: Mark Udall (Senator from Colorado)           NaN  twitter   \n",
      "4  From: Heidi Heitkamp (Senator from North Dakota)           NaN  twitter   \n",
      "\n",
      "                                                text             Name  \\\n",
      "0  VIDEO - #Obamacare:  Full of Higher Costs and ...  Mitch McConnell   \n",
      "1  Please join me today in remembering our fallen...    Kurt Schrader   \n",
      "2  RT @SenatorLeahy: 1st step toward Senate debat...    Michael Crapo   \n",
      "3  .@amazon delivery #drones show need to update ...       Mark Udall   \n",
      "4  Called on the @USDOTFRA to release info about ...   Heidi Heitkamp   \n",
      "\n",
      "   Last Name Party  target  \n",
      "0  McConnell     R       1  \n",
      "1   Schrader     D       0  \n",
      "2      Crapo     R       0  \n",
      "3      Udall     D       1  \n",
      "4   Heitkamp     D       1  \n",
      "\n",
      "[5 rows x 26 columns]\n"
     ]
    }
   ],
   "source": [
    "from sklearn.preprocessing import LabelEncoder\n",
    "from sklearn.ensemble import RandomForestClassifier\n",
    "from sklearn.feature_extraction.text import TfidfVectorizer\n",
    "import string\n",
    "import nltk\n",
    "from nltk.corpus import stopwords\n",
    "from nltk import word_tokenize\n",
    "from sklearn.model_selection import train_test_split\n",
    "\n",
    "# Generate a list of stopwords \n",
    "nltk.download('stopwords')\n",
    "stops = stopwords.words('english') + list(string.punctuation)\n",
    "\n",
    "# Read in data\n",
    "df_partisan = pd.read_csv('cleaned_political_social_media.csv')\n",
    "\n",
    "# Convert string labels to 1 or 0 \n",
    "le = LabelEncoder()\n",
    "df_partisan['target'] = le.fit_transform(df_partisan['bias'])\n",
    "\n",
    "# Examine our data\n",
    "print(df_partisan.head())\n",
    "\n",
    "# Separate features and labels \n",
    "X = df_partisan['text']\n",
    "y = df_partisan['target']\n",
    "\n",
    "# Create test and train datasets\n",
    "X_train, X_test, y_train, y_test = train_test_split(X, y, test_size = 0.5, random_state=1)"
   ]
  },
  {
   "cell_type": "code",
   "execution_count": 79,
   "id": "adf5b554",
   "metadata": {},
   "outputs": [],
   "source": [
    "vectorizer = TfidfVectorizer(stop_words= stops)\n",
    "vectorizer.fit(X_train)\n",
    "tf_idf_train = vectorizer.transform(X_train)\n",
    "tf_idf_test = vectorizer.transform(X_test)"
   ]
  },
  {
   "cell_type": "code",
   "execution_count": 80,
   "id": "1d102d56",
   "metadata": {},
   "outputs": [],
   "source": [
    "classifier = RandomForestClassifier(random_state=1)\n",
    "classifier.fit(tf_idf_train, y_train)\n",
    "\n",
    "y_preds = classifier.predict(tf_idf_test)"
   ]
  },
  {
   "cell_type": "code",
   "execution_count": 81,
   "id": "e7525aa5",
   "metadata": {},
   "outputs": [
    {
     "data": {
      "text/plain": [
       "array([0, 1, 0, ..., 0, 0, 0])"
      ]
     },
     "execution_count": 81,
     "metadata": {},
     "output_type": "execute_result"
    }
   ],
   "source": [
    "y_preds"
   ]
  },
  {
   "cell_type": "code",
   "execution_count": 82,
   "id": "621ebc6a",
   "metadata": {},
   "outputs": [
    {
     "data": {
      "text/plain": [
       "0.7503974562798092"
      ]
     },
     "execution_count": 82,
     "metadata": {},
     "output_type": "execute_result"
    }
   ],
   "source": [
    "classifier.score(tf_idf_test, y_test)"
   ]
  },
  {
   "cell_type": "code",
   "execution_count": 83,
   "id": "9b1290dd",
   "metadata": {},
   "outputs": [],
   "source": [
    "from sklearn.metrics import ConfusionMatrixDisplay"
   ]
  },
  {
   "cell_type": "code",
   "execution_count": 84,
   "id": "57aba8ed",
   "metadata": {},
   "outputs": [
    {
     "data": {
      "text/plain": [
       "<sklearn.metrics._plot.confusion_matrix.ConfusionMatrixDisplay at 0x7fb222b78b80>"
      ]
     },
     "execution_count": 84,
     "metadata": {},
     "output_type": "execute_result"
    },
    {
     "data": {
      "image/png": "[encoded data removed]",
      "text/plain": [
       "<Figure size 640x480 with 2 Axes>"
      ]
     },
     "metadata": {},
     "output_type": "display_data"
    }
   ],
   "source": [
    "ConfusionMatrixDisplay.from_predictions(y_test, y_preds)"
   ]
  },
  {
   "cell_type": "code",
   "execution_count": 85,
   "id": "6a4f8333",
   "metadata": {},
   "outputs": [],
   "source": [
    "from sklearn.metrics import roc_curve, auc, log_loss, confusion_matrix, classification_report, ConfusionMatrixDisplay"
   ]
  },
  {
   "cell_type": "code",
   "execution_count": 86,
   "id": "91cb937e",
   "metadata": {},
   "outputs": [
    {
     "name": "stdout",
     "output_type": "stream",
     "text": [
      "              precision    recall  f1-score   support\n",
      "\n",
      "           0       0.78      0.93      0.85      1411\n",
      "           1       0.51      0.21      0.30       476\n",
      "\n",
      "    accuracy                           0.75      1887\n",
      "   macro avg       0.65      0.57      0.58      1887\n",
      "weighted avg       0.71      0.75      0.71      1887\n",
      "\n"
     ]
    }
   ],
   "source": [
    "print(classification_report(y_test, y_preds))"
   ]
  },
  {
   "cell_type": "code",
   "execution_count": 87,
   "id": "6aabfac0",
   "metadata": {},
   "outputs": [],
   "source": [
    "from sklearn.feature_extraction.text import CountVectorizer\n",
    "ct_vectorizer = CountVectorizer()\n",
    "ct_vectorizer.fit(X_train)\n",
    "X_tr_vec = ct_vectorizer.transform(X_train)\n",
    "X_te_vec = ct_vectorizer.transform(X_test)"
   ]
  },
  {
   "cell_type": "code",
   "execution_count": 88,
   "id": "e7278308",
   "metadata": {},
   "outputs": [
    {
     "data": {
      "text/html": [
       "<style>#sk-container-id-2 {color: black;background-color: white;}#sk-container-id-2 pre{padding: 0;}#sk-container-id-2 div.sk-toggleable {background-color: white;}#sk-container-id-2 label.sk-toggleable__label {cursor: pointer;display: block;width: 100%;margin-bottom: 0;padding: 0.3em;box-sizing: border-box;text-align: center;}#sk-container-id-2 label.sk-toggleable__label-arrow:before {content: \"▸\";float: left;margin-right: 0.25em;color: #696969;}#sk-container-id-2 label.sk-toggleable__label-arrow:hover:before {color: black;}#sk-container-id-2 div.sk-estimator:hover label.sk-toggleable__label-arrow:before {color: black;}#sk-container-id-2 div.sk-toggleable__content {max-height: 0;max-width: 0;overflow: hidden;text-align: left;background-color: #f0f8ff;}#sk-container-id-2 div.sk-toggleable__content pre {margin: 0.2em;color: black;border-radius: 0.25em;background-color: #f0f8ff;}#sk-container-id-2 input.sk-toggleable__control:checked~div.sk-toggleable__content {max-height: 200px;max-width: 100%;overflow: auto;}#sk-container-id-2 input.sk-toggleable__control:checked~label.sk-toggleable__label-arrow:before {content: \"▾\";}#sk-container-id-2 div.sk-estimator input.sk-toggleable__control:checked~label.sk-toggleable__label {background-color: #d4ebff;}#sk-container-id-2 div.sk-label input.sk-toggleable__control:checked~label.sk-toggleable__label {background-color: #d4ebff;}#sk-container-id-2 input.sk-hidden--visually {border: 0;clip: rect(1px 1px 1px 1px);clip: rect(1px, 1px, 1px, 1px);height: 1px;margin: -1px;overflow: hidden;padding: 0;position: absolute;width: 1px;}#sk-container-id-2 div.sk-estimator {font-family: monospace;background-color: #f0f8ff;border: 1px dotted black;border-radius: 0.25em;box-sizing: border-box;margin-bottom: 0.5em;}#sk-container-id-2 div.sk-estimator:hover {background-color: #d4ebff;}#sk-container-id-2 div.sk-parallel-item::after {content: \"\";width: 100%;border-bottom: 1px solid gray;flex-grow: 1;}#sk-container-id-2 div.sk-label:hover label.sk-toggleable__label {background-color: #d4ebff;}#sk-container-id-2 div.sk-serial::before {content: \"\";position: absolute;border-left: 1px solid gray;box-sizing: border-box;top: 0;bottom: 0;left: 50%;z-index: 0;}#sk-container-id-2 div.sk-serial {display: flex;flex-direction: column;align-items: center;background-color: white;padding-right: 0.2em;padding-left: 0.2em;position: relative;}#sk-container-id-2 div.sk-item {position: relative;z-index: 1;}#sk-container-id-2 div.sk-parallel {display: flex;align-items: stretch;justify-content: center;background-color: white;position: relative;}#sk-container-id-2 div.sk-item::before, #sk-container-id-2 div.sk-parallel-item::before {content: \"\";position: absolute;border-left: 1px solid gray;box-sizing: border-box;top: 0;bottom: 0;left: 50%;z-index: -1;}#sk-container-id-2 div.sk-parallel-item {display: flex;flex-direction: column;z-index: 1;position: relative;background-color: white;}#sk-container-id-2 div.sk-parallel-item:first-child::after {align-self: flex-end;width: 50%;}#sk-container-id-2 div.sk-parallel-item:last-child::after {align-self: flex-start;width: 50%;}#sk-container-id-2 div.sk-parallel-item:only-child::after {width: 0;}#sk-container-id-2 div.sk-dashed-wrapped {border: 1px dashed gray;margin: 0 0.4em 0.5em 0.4em;box-sizing: border-box;padding-bottom: 0.4em;background-color: white;}#sk-container-id-2 div.sk-label label {font-family: monospace;font-weight: bold;display: inline-block;line-height: 1.2em;}#sk-container-id-2 div.sk-label-container {text-align: center;}#sk-container-id-2 div.sk-container {/* jupyter's `normalize.less` sets `[hidden] { display: none; }` but bootstrap.min.css set `[hidden] { display: none !important; }` so we also need the `!important` here to be able to override the default hidden behavior on the sphinx rendered scikit-learn.org. See: https://github.com/scikit-learn/scikit-learn/issues/21755 */display: inline-block !important;position: relative;}#sk-container-id-2 div.sk-text-repr-fallback {display: none;}</style><div id=\"sk-container-id-2\" class=\"sk-top-container\"><div class=\"sk-text-repr-fallback\"><pre>RandomForestClassifier()</pre><b>In a Jupyter environment, please rerun this cell to show the HTML representation or trust the notebook. <br />On GitHub, the HTML representation is unable to render, please try loading this page with nbviewer.org.</b></div><div class=\"sk-container\" hidden><div class=\"sk-item\"><div class=\"sk-estimator sk-toggleable\"><input class=\"sk-toggleable__control sk-hidden--visually\" id=\"sk-estimator-id-2\" type=\"checkbox\" checked><label for=\"sk-estimator-id-2\" class=\"sk-toggleable__label sk-toggleable__label-arrow\">RandomForestClassifier</label><div class=\"sk-toggleable__content\"><pre>RandomForestClassifier()</pre></div></div></div></div></div>"
      ],
      "text/plain": [
       "RandomForestClassifier()"
      ]
     },
     "execution_count": 88,
     "metadata": {},
     "output_type": "execute_result"
    }
   ],
   "source": [
    "rfc = RandomForestClassifier()\n",
    "rfc.fit(X_tr_vec, y_train)"
   ]
  },
  {
   "cell_type": "code",
   "execution_count": 89,
   "id": "581ea87d",
   "metadata": {},
   "outputs": [
    {
     "data": {
      "text/plain": [
       "0.7562268150503445"
      ]
     },
     "execution_count": 89,
     "metadata": {},
     "output_type": "execute_result"
    }
   ],
   "source": [
    "rfc.score(X_te_vec, y_test)"
   ]
  },
  {
   "cell_type": "code",
   "execution_count": 90,
   "id": "f066402c",
   "metadata": {},
   "outputs": [],
   "source": [
    "y_preds_ct = rfc.predict(X_te_vec)"
   ]
  },
  {
   "cell_type": "code",
   "execution_count": 91,
   "id": "18e0b3ec",
   "metadata": {},
   "outputs": [
    {
     "name": "stdout",
     "output_type": "stream",
     "text": [
      "              precision    recall  f1-score   support\n",
      "\n",
      "           0       0.76      0.97      0.86      1411\n",
      "           1       0.59      0.11      0.19       476\n",
      "\n",
      "    accuracy                           0.76      1887\n",
      "   macro avg       0.68      0.54      0.52      1887\n",
      "weighted avg       0.72      0.76      0.69      1887\n",
      "\n"
     ]
    }
   ],
   "source": [
    "print(classification_report(y_test, y_preds_ct))"
   ]
  },
  {
   "cell_type": "code",
   "execution_count": 92,
   "id": "908a8568",
   "metadata": {},
   "outputs": [
    {
     "data": {
      "text/plain": [
       "<sklearn.metrics._plot.confusion_matrix.ConfusionMatrixDisplay at 0x7fb222897340>"
      ]
     },
     "execution_count": 92,
     "metadata": {},
     "output_type": "execute_result"
    },
    {
     "data": {
      "image/png": "[encoded data removed]",
      "text/plain": [
       "<Figure size 640x480 with 2 Axes>"
      ]
     },
     "metadata": {},
     "output_type": "display_data"
    }
   ],
   "source": [
    "ConfusionMatrixDisplay.from_predictions(y_test, y_preds_ct)"
   ]
  },
  {
   "cell_type": "code",
   "execution_count": 93,
   "id": "384096bf",
   "metadata": {},
   "outputs": [],
   "source": [
    "# standard packages for data analysis and NLP\n",
    "\n",
    "import numpy as np\n",
    "import pandas as pd\n",
    "from copy import deepcopy\n",
    "\n",
    "#visualization packages\n",
    "import seaborn as sns\n",
    "import matplotlib.pyplot as plt\n",
    "\n",
    "# NLP modules we will use for text normalization\n",
    "import re #regex \n",
    "import nltk # the natural language toolkit\n",
    "from nltk.tokenize import word_tokenize\n",
    "from nltk import WordNetLemmatizer\n",
    "from nltk.corpus import stopwords\n",
    "from nltk.corpus import wordnet\n",
    "from nltk import pos_tag\n",
    "\n",
    "# feature construction\n",
    "from sklearn.feature_extraction.text import TfidfVectorizer #use this to create BoW matrix"
   ]
  },
  {
   "cell_type": "code",
   "execution_count": 94,
   "id": "42253720",
   "metadata": {},
   "outputs": [],
   "source": [
    "# additional argument sets cut off minimum length for tokenized text at which function converts to null string.\n",
    "def process_tweet(tweet_text, min_length):\n",
    "    \n",
    "    # get common stop words that we'll remove during tokenization/text normalization\n",
    "    stop_words = stopwords.words('english')\n",
    "\n",
    "    #initialize lemmatizer\n",
    "    wnl = WordNetLemmatizer()\n",
    "\n",
    "    # helper function to change nltk's part of speech tagging to a wordnet format.\n",
    "    def pos_tagger(nltk_tag):\n",
    "        if nltk_tag.startswith('J'):\n",
    "            return wordnet.ADJ\n",
    "        elif nltk_tag.startswith('V'):\n",
    "            return wordnet.VERB\n",
    "        elif nltk_tag.startswith('N'):\n",
    "            return wordnet.NOUN\n",
    "        elif nltk_tag.startswith('R'):\n",
    "            return wordnet.ADV\n",
    "        else:         \n",
    "            return None\n",
    "   \n",
    "\n",
    "    # lower case everything\n",
    "    tweet_lower = tweet_text.lower()\n",
    "\n",
    "    #remove mentions, hashtags, and urls, strip whitspace and breaks\n",
    "    tweet_lower = re.sub(r\"@[a-z0-9_]+|#[a-z0-9_]+|http\\S+\", \"\", tweet_lower).strip().replace(\"\\r\", \"\").replace(\"\\n\", \"\").replace(\"\\t\", \"\")\n",
    "    \n",
    "    \n",
    "    # remove stop words and punctuations \n",
    "    tweet_norm = [x for x in word_tokenize(tweet_lower) if ((x.isalpha()) & (x not in stop_words)) ]\n",
    "\n",
    "    #  POS detection on the result will be important in telling Wordnet's lemmatizer how to lemmatize\n",
    "    \n",
    "    # creates list of tuples with tokens and POS tags in wordnet format\n",
    "    wordnet_tagged = list(map(lambda x: (x[0], pos_tagger(x[1])), pos_tag(tweet_norm))) \n",
    "\n",
    "    # now we are going to have a cutoff here. any tokenized cocument with length < min length will be removed from corpus\n",
    "    if len(wordnet_tagged) <= min_length:\n",
    "        return ''\n",
    "    else:\n",
    "         # rejoins lemmatized sentence \n",
    "        tweet_norm = \" \".join([wnl.lemmatize(x[0], x[1]) for x in wordnet_tagged if x[1] is not None])\n",
    "        return tweet_norm\n",
    "\n"
   ]
  },
  {
   "cell_type": "markdown",
   "id": "abf6ca79",
   "metadata": {},
   "source": [
    "## Ask Brendan about the args"
   ]
  },
  {
   "cell_type": "code",
   "execution_count": 95,
   "id": "a78d7d01",
   "metadata": {},
   "outputs": [],
   "source": [
    "# anything with no of tokens <= 10 is likely junk. apply has additional args parameter to pass in function arguments.\n",
    "df_partisan['text'] = df_partisan['text'].apply(process_tweet, args = [10])\n",
    "\n",
    "#our processing created some empty documents, so we should drop these."
   ]
  },
  {
   "cell_type": "code",
   "execution_count": 96,
   "id": "0aa305fa",
   "metadata": {},
   "outputs": [],
   "source": [
    "# some documents are short enough cleaning may have wiped it out.\n",
    "df_partisan_new = df_partisan[df_partisan['text'] != '']"
   ]
  },
  {
   "cell_type": "code",
   "execution_count": 97,
   "id": "44b6d32d",
   "metadata": {},
   "outputs": [
    {
     "data": {
      "text/plain": [
       "(1970, 26)"
      ]
     },
     "execution_count": 97,
     "metadata": {},
     "output_type": "execute_result"
    }
   ],
   "source": [
    "df_partisan_new.shape"
   ]
  },
  {
   "cell_type": "code",
   "execution_count": 98,
   "id": "b6b70d06",
   "metadata": {},
   "outputs": [],
   "source": [
    "X_new= df_partisan_new['text']\n",
    "y_new= df_partisan_new['target']"
   ]
  },
  {
   "cell_type": "code",
   "execution_count": 99,
   "id": "8d6574c1",
   "metadata": {},
   "outputs": [],
   "source": [
    "X_train_new, X_test_new, y_train_new, y_test_new = train_test_split(X_new, y_new, test_size = 0.5, random_state=1)"
   ]
  },
  {
   "cell_type": "code",
   "execution_count": 100,
   "id": "c7dc83cc",
   "metadata": {},
   "outputs": [],
   "source": [
    "tfidf_vec = TfidfVectorizer()\n",
    "tfidf_vec.fit(X_train_new)\n",
    "tf_idf_train = tfidf_vec.transform(X_train_new)\n",
    "tf_idf_test = tfidf_vec.transform(X_test_new)"
   ]
  },
  {
   "cell_type": "code",
   "execution_count": 102,
   "id": "8e40685f",
   "metadata": {},
   "outputs": [],
   "source": [
    "rfc_tfidf = RandomForestClassifier(random_state=1)\n",
    "rfc_tfidf.fit(tf_idf_train, y_train_new)\n",
    "\n",
    "y_preds = rfc_tfidf.predict(tf_idf_test)"
   ]
  },
  {
   "cell_type": "code",
   "execution_count": 104,
   "id": "bcccb2d9",
   "metadata": {},
   "outputs": [
    {
     "data": {
      "text/plain": [
       "0.7340101522842639"
      ]
     },
     "execution_count": 104,
     "metadata": {},
     "output_type": "execute_result"
    }
   ],
   "source": [
    "rfc_tfidf.score(tf_idf_test, y_test_new)"
   ]
  },
  {
   "cell_type": "code",
   "execution_count": 106,
   "id": "de9d5dae",
   "metadata": {},
   "outputs": [
    {
     "name": "stdout",
     "output_type": "stream",
     "text": [
      "              precision    recall  f1-score   support\n",
      "\n",
      "           0       0.75      0.96      0.84       721\n",
      "           1       0.52      0.11      0.18       264\n",
      "\n",
      "    accuracy                           0.73       985\n",
      "   macro avg       0.63      0.54      0.51       985\n",
      "weighted avg       0.69      0.73      0.66       985\n",
      "\n"
     ]
    }
   ],
   "source": [
    "print(classification_report(y_test_new, y_preds))"
   ]
  },
  {
   "cell_type": "code",
   "execution_count": 109,
   "id": "458ce437",
   "metadata": {},
   "outputs": [
    {
     "data": {
      "text/plain": [
       "<sklearn.metrics._plot.confusion_matrix.ConfusionMatrixDisplay at 0x7fb22d5ee940>"
      ]
     },
     "execution_count": 109,
     "metadata": {},
     "output_type": "execute_result"
    },
    {
     "data": {
      "image/png": "[encoded data removed]",
      "text/plain": [
       "<Figure size 640x480 with 2 Axes>"
      ]
     },
     "metadata": {},
     "output_type": "display_data"
    }
   ],
   "source": [
    "ConfusionMatrixDisplay.from_predictions(y_test_new, y_preds)"
   ]
  },
  {
   "cell_type": "markdown",
   "id": "4175a947",
   "metadata": {},
   "source": [
    "# pipelines"
   ]
  },
  {
   "cell_type": "code",
   "execution_count": null,
   "id": "f086d3d5",
   "metadata": {},
   "outputs": [],
   "source": [
    "unupervised on sentiment for the tweetset I have\n",
    "covid sentiment"
   ]
  }
 ],
 "metadata": {
  "kernelspec": {
   "display_name": "Python 3 (ipykernel)",
   "language": "python",
   "name": "python3"
  },
  "language_info": {
   "codemirror_mode": {
    "name": "ipython",
    "version": 3
   },
   "file_extension": ".py",
   "mimetype": "text/x-python",
   "name": "python",
   "nbconvert_exporter": "python",
   "pygments_lexer": "ipython3",
   "version": "3.8.16"
  }
 },
 "nbformat": 4,
 "nbformat_minor": 5
}
